{
 "cells": [
  {
   "cell_type": "markdown",
   "metadata": {},
   "source": [
    "Reference Paper: \"Estimating the Basin of Attraction for the Power Flow Equations in Power Distribution Networks\"\n",
    "DOI: 10.1109/TPWRS.2024.3437649\n",
    "\n",
    "---\n",
    "---"
   ]
  },
  {
   "attachments": {
    "image.png": {
     "image/png": "[encoded data removed]"
    }
   },
   "cell_type": "markdown",
   "metadata": {},
   "source": [
    "The goal is to estimate both the inner and outer boundaries of the basin of attraction in power distribution networks. The proposed approach helps define the convergence region of the power flow algorithm and estimates the grid’s minimum and maximum voltage levels without directly solving the power flow equations.\n",
    "\n",
    "Parameters definitions:\n",
    "\n",
    "![image.png](attachment:image.png)\n",
    "\n"
   ]
  },
  {
   "cell_type": "code",
   "execution_count": 1,
   "metadata": {},
   "outputs": [],
   "source": [
    "import numpy as np\n",
    "import matplotlib.pyplot as plt\n",
    "from numpy.polynomial.polynomial import Polynomial\n",
    "import pandapower as pp"
   ]
  },
  {
   "cell_type": "code",
   "execution_count": 2,
   "metadata": {},
   "outputs": [
    {
     "name": "stdout",
     "output_type": "stream",
     "text": [
      "alpha_1 is 1.598397e+01\n",
      "alpha_2 is 1.559834e+01\n",
      "vmin(est): [0.97504004 0.97504004 0.97877295 0.97877295 0.98421054 0.97741587]\n",
      "vmax(est): [2.68908459 2.68908459 2.6928175  2.6928175  2.69825508 2.69146042]\n",
      "rmin: 0.045789464242144834\n",
      "rmax: 1.6682550829011633\n"
     ]
    }
   ],
   "source": [
    "# Create a simple power network using pandapower including seven buses\n",
    "net = pp.networks.example_simple()\n",
    "\n",
    "# Function to perform power flow calculation using Newton-Raphson method\n",
    "def power_flow_calculation(net):\n",
    "    pp.runpp(net, calculate_voltage_angles=True)\n",
    "    return np.concatenate((net.res_bus.vm_pu.values, net.res_bus.va_degree.values))\n",
    "\n",
    "# Run power flow\n",
    "power_flow_calculation(net)\n",
    "\n",
    "# Access internal states\n",
    "internal = net._ppc[\"internal\"]\n",
    "\n",
    "# Access P value\n",
    "pn = internal[\"Pbusinj\"]\n",
    "pn = pn[0:pn.size]\n",
    "\n",
    "# Define Voltage of slack bus\n",
    "vs = 1.0\n",
    "\n",
    "# Access Y-bus matrix\n",
    "Y_0 = internal[\"Ybus\"]  \n",
    "Y = Y_0.toarray()\n",
    "\n",
    "# Creat the admittance matrix\n",
    "Zn = np.linalg.inv(Y[0:Y.size, 0:Y.size])\n",
    "\n",
    "# slicing the array Y\n",
    "Ym = Y[0:Y.size, 0]\n",
    "\n",
    "# T: B → X be a contraction which moves the center of B a distance at most (1 − γ)r\n",
    "def T(v):\n",
    "    return Zn @ (pn / v - Ym * vs)\n",
    "\n",
    "# Receive voltage values\n",
    "real_values = power_flow_calculation(net)\n",
    "vn = real_values[1:7]\n",
    "\n",
    "# Define alpha parameter \n",
    "α1 = np.linalg.norm(Zn @ pn, np.inf) * 0.1\n",
    "α2 = np.linalg.norm(vn - Zn @ (pn / vn - Ym * vs), np.inf) * 0.1\n",
    "\n",
    "\n",
    "print(f\"alpha_1 is {\"{:e}\".format(α1)}\")\n",
    "print(f\"alpha_2 is {\"{:e}\".format(α2)}\")\n",
    "\n",
    "# Define polynomial function\n",
    "pol = Polynomial([-α2, 1 + 2 * α2 - α1, -2 - α2, 1])\n",
    "\n",
    "# Calculate theradius of our solution domain (closed ball)\n",
    "r = np.sort(pol.roots().real)\n",
    "rmin = r[1] * 0.1\n",
    "rmax = r[2] * 0.1\n",
    "\n",
    "# Print the calculated parameters\n",
    "print(f\"vmin(est): {vn - rmin}\")\n",
    "print(f\"vmax(est): {vn + rmax}\")\n",
    "print(f\"rmin: {rmin}\")\n",
    "print(f\"rmax: {rmax}\")"
   ]
  },
  {
   "cell_type": "code",
   "execution_count": 3,
   "metadata": {},
   "outputs": [
    {
     "data": {
      "image/png": "[encoded data removed]",
      "text/plain": [
       "<Figure size 640x480 with 1 Axes>"
      ]
     },
     "metadata": {},
     "output_type": "display_data"
    }
   ],
   "source": [
    "# Plot the center (orange dots) of voltage magnitudes domain and max (blue squares) and min (orange squares) domain for contraction purpose\n",
    "\n",
    "vf = np.zeros((2, 10))\n",
    "vf[:, 0] = np.array([0.4, 0.4])\n",
    "\n",
    "plt.style.use('dark_background')\n",
    "plt.plot([vn - rmax, vn - rmax, vn + rmax, vn + rmax, vn - rmax],\n",
    "         [vn - rmax, vn + rmax, vn + rmax, vn - rmax, vn - rmax],\n",
    "         color='skyblue')\n",
    "plt.plot([vn - rmin, vn - rmin, vn + rmin, vn + rmin, vn - rmin],\n",
    "         [vn - rmin, vn + rmin, vn + rmin, vn - rmin, vn - rmin],\n",
    "         color='orange')\n",
    "plt.plot([vn], [vn], marker='o', color='orange')\n",
    "\n",
    "plt.show()"
   ]
  },
  {
   "cell_type": "code",
   "execution_count": null,
   "metadata": {},
   "outputs": [],
   "source": []
  }
 ],
 "metadata": {
  "kernelspec": {
   "display_name": ".venv",
   "language": "python",
   "name": "python3"
  },
  "language_info": {
   "codemirror_mode": {
    "name": "ipython",
    "version": 3
   },
   "file_extension": ".py",
   "mimetype": "text/x-python",
   "name": "python",
   "nbconvert_exporter": "python",
   "pygments_lexer": "ipython3",
   "version": "3.12.5"
  }
 },
 "nbformat": 4,
 "nbformat_minor": 4
}
